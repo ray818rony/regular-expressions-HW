{
 "cells": [
  {
   "cell_type": "code",
   "execution_count": 60,
   "metadata": {},
   "outputs": [],
   "source": [
    "import re"
   ]
  },
  {
   "cell_type": "code",
   "execution_count": 62,
   "metadata": {},
   "outputs": [],
   "source": [
    "# Use python to read the file regex_test.txt and print the last name on \n",
    "# each line using regular expressions and groups \n",
    "# (return None for names with no first and last name, or names that\n",
    "# aren't properly capitalized)"
   ]
  },
  {
   "cell_type": "code",
   "execution_count": 63,
   "metadata": {},
   "outputs": [],
   "source": [
    "# \"\"\"\n",
    "# Expected Output\n",
    "# Abraham Lincoln\n",
    "# Andrew P Garfield\n",
    "# Connor Milliken\n",
    "# Jordan Alexander Williams\n",
    "# None\n",
    "# None\n",
    "# \"\"\"\n"
   ]
  },
  {
   "cell_type": "code",
   "execution_count": 213,
   "metadata": {},
   "outputs": [],
   "source": [
    "# # rules of engagment to find names\n",
    "# first_variable = re.compile('[A-Z][a-zA-Za-z]+([A-Z][A-Za-z]+) ')\n",
    "# second_variable = first_variable.findall(original_list)\n",
    "# print(second_variable)\n",
    "\n",
    "# # we can creat a for loop to run through the list and use .split to separate each item with a ',' like this:\n",
    "# for name in original_list.split(','):\n",
    "#     match = first_variable.search(name)\n",
    "    \n",
    "#     if match:\n",
    "#         print(match.gorups)\n",
    "# #         in this line .groups puts results in groups and if used .group(1) this gives first item = first name only\n",
    "#     else:\n",
    "#         print('not a match')\n",
    "        \n",
    "    "
   ]
  },
  {
   "cell_type": "code",
   "execution_count": 215,
   "metadata": {},
   "outputs": [],
   "source": [
    "with open('regex_test.txt') as f:\n",
    "    info = f.read()\n",
    "pattern = re.compile('([A-Z][a-z]+),([\\w]*)([A-Z][a-z]+),([\\w]*)([A-Z][a-z]+)$')\n",
    "for name in info:\n",
    "    match = pattern.findall(name)\n",
    "    \n",
    "    if match:\n",
    "        print(match)"
   ]
  },
  {
   "cell_type": "code",
   "execution_count": null,
   "metadata": {},
   "outputs": [],
   "source": []
  }
 ],
 "metadata": {
  "kernelspec": {
   "display_name": "Python 3",
   "language": "python",
   "name": "python3"
  },
  "language_info": {
   "codemirror_mode": {
    "name": "ipython",
    "version": 3
   },
   "file_extension": ".py",
   "mimetype": "text/x-python",
   "name": "python",
   "nbconvert_exporter": "python",
   "pygments_lexer": "ipython3",
   "version": "3.8.5"
  }
 },
 "nbformat": 4,
 "nbformat_minor": 4
}
